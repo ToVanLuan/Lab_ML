{
  "nbformat": 4,
  "nbformat_minor": 0,
  "metadata": {
    "colab": {
      "provenance": [],
      "authorship_tag": "ABX9TyPaXlLJy+yk9x6V4+cdmshP",
      "include_colab_link": true
    },
    "kernelspec": {
      "name": "python3",
      "display_name": "Python 3"
    },
    "language_info": {
      "name": "python"
    }
  },
  "cells": [
    {
      "cell_type": "markdown",
      "metadata": {
        "id": "view-in-github",
        "colab_type": "text"
      },
      "source": [
        "<a href=\"https://colab.research.google.com/github/ToVanLuan/Lab_ML/blob/main/Lab1_21130438_ToVanLuan.ipynb\" target=\"_parent\"><img src=\"https://colab.research.google.com/assets/colab-badge.svg\" alt=\"Open In Colab\"/></a>"
      ]
    },
    {
      "cell_type": "code",
      "execution_count": null,
      "metadata": {
        "colab": {
          "base_uri": "https://localhost:8080/"
        },
        "id": "4M8ELP7ypsrj",
        "outputId": "e6a150e4-a3bf-4669-cd23-a40708271b43"
      },
      "outputs": [
        {
          "output_type": "stream",
          "name": "stdout",
          "text": [
            "enter n: 4\n",
            " Enter num:  10\n",
            " Enter num:  890\n",
            " Enter num:  20\n",
            " Enter num:  50\n",
            "max: 890\n"
          ]
        }
      ],
      "source": [
        "n=int(input(\"enter n: \"))\n",
        "L=[]\n",
        "for i  in range(n):\n",
        "\n",
        "  num=int(input(\" Enter num:  \"))\n",
        "  L.append(num)\n",
        "print(\"max:\",max(L))\n",
        "\n",
        "\n"
      ]
    },
    {
      "cell_type": "code",
      "source": [
        "n=int(input(\"enter n: \"))\n",
        "sum=0\n",
        "a=1\n",
        "if n>0:\n",
        " for i in range(1,n+1):\n",
        "  a=a*i\n",
        "  sum+=a\n",
        " print(sum)\n",
        "else: print(\"n phai >0\")\n"
      ],
      "metadata": {
        "id": "VzVYHDyN39mU",
        "colab": {
          "base_uri": "https://localhost:8080/"
        },
        "outputId": "c44a9757-52f4-4ec5-c2b2-70231279b713"
      },
      "execution_count": null,
      "outputs": [
        {
          "output_type": "stream",
          "name": "stdout",
          "text": [
            "enter n: 0\n",
            "k hop le\n"
          ]
        }
      ]
    },
    {
      "cell_type": "code",
      "source": [
        "class Account:\n",
        "   def __init__(self, name, email, country, friends=None, posts=None):\n",
        "     self.name = name\n",
        "     self.email = email\n",
        "     self.country = country\n",
        "     self.friends = friends if friends is not None else []\n",
        "     self.posts = posts if posts is not None else []\n",
        "\n",
        "class VerifiedAccount(Account):\n",
        "   def __init__(self, name, email,fromDate, country, friends=None, posts=None):\n",
        "    super().__init__( name, email, country, friends, posts)\n",
        "    self.fromDate=fromDate\n",
        "\n",
        "class NormalProduct(Account):\n",
        "   pass\n",
        "\n",
        "class Post:\n",
        "   def __init__(self, content, subject, like):\n",
        "     self.content = content\n",
        "     self.subject = subject\n",
        "     self.like = like\n",
        "\n",
        "class AccountManager:\n",
        "    def __init__(self, accounts=None):\n",
        "        self.accounts = accounts if accounts is not None else []\n",
        "\n",
        "    def getMaxLikePostByFriend(self):\n",
        "        maxLike = 0\n",
        "        accountMaxLike = None\n",
        "        for account in self.accounts:\n",
        "            for friend in account.friends:\n",
        "                for post in friend.posts:\n",
        "                    if post.like > maxLike:\n",
        "                        maxLike = post.like\n",
        "                        accountMaxLike = account\n",
        "        if maxLike > 0:\n",
        "            return accountMaxLike\n",
        "        else:\n",
        "            return None\n",
        "\n",
        "    def groupAccountsByPostLike(self):\n",
        "        grouped = {\"true\": [],\"false\": []}\n",
        "        for account in self.accounts:\n",
        "            if len(account.posts) >= 10:\n",
        "                key = \"true\"\n",
        "            else:\n",
        "                key = \"false\"\n",
        "            grouped[key].append(account)\n",
        "        return grouped\n",
        "\n",
        "    def filterAccounts(self, country: str):\n",
        "        filterAccount=[]\n",
        "        for account in self.accounts:\n",
        "            if account.country==country:\n",
        "                filterAccount.append(account)\n",
        "        filterAccount.sort(key=lambda x: len(x.posts), reverse=False)\n",
        "        filterAccount.sort(key=lambda x: x.name, reverse=True)\n",
        "        return filterAccount\n",
        "  # Test contructor\n",
        "post1 = Post(\"Content 1\", \"Subject 1\", 5)\n",
        "post2 = Post(\"Content 2\", \"Subject 2\", 12)\n",
        "post3 = Post(\"Content 3\", \"Subject 3\", 8)\n",
        "account1 = Account(\"User 1\", \"user1@gmail.com\", \"Vietnam\", [], [post1, post2])\n",
        "account2 = Account(\"User 2\", \"user2@gmail.com\", \"Vietnam\", [account1], [post3])\n",
        "account3 = Account(\"User 3\", \"user3@gmail.com\", \"Vietnam\", [account2], [post2,post1, post3])\n",
        "verified_account = VerifiedAccount(\"Verified User\", \"verified@gmail.com\", \"2023-01-01\", \"Vietnam\")\n",
        "manager = AccountManager([account1, account2, account3, verified_account])\n",
        " # Test Method\n",
        "maxLikeAccount = manager.getMaxLikePostByFriend()\n",
        "if maxLikeAccount:\n",
        "    print(\"Tài khoản có bài đăng được bạn bè thích nhiều nhất là:\", maxLikeAccount.name)\n",
        "else:\n",
        "    print(\"Không có tài khoản nào có bài đăng được bạn bè thích.\")\n",
        "grouped_accounts = manager.groupAccountsByPostLike()\n",
        "print(\"Tài khoản có ít nhất 10 bài đăng:\")\n",
        "for account in grouped_accounts[\"true\"]:\n",
        "    print(account.name)\n",
        "print(\"Tài khoản có ít hơn 10 bài đăng:\")\n",
        "for account in grouped_accounts[\"false\"]:\n",
        "    print(account.name)\n",
        "\n",
        "filtered_accounts=manager.filterAccounts(\"Vietnam\")\n",
        "print(\"Các tài khoản ở Việt Nam được sắp xếp theo số bài đăng (tăng dần) và tên (giảm dần):\")\n",
        "for account in filtered_accounts:\n",
        "    print(account.name)\n",
        "\n",
        "\n",
        "\n",
        "\n"
      ],
      "metadata": {
        "colab": {
          "base_uri": "https://localhost:8080/"
        },
        "id": "cVojXLIlEgVE",
        "outputId": "2e5ab778-896f-4053-f005-e0bb680cca5d"
      },
      "execution_count": null,
      "outputs": [
        {
          "output_type": "stream",
          "name": "stdout",
          "text": [
            "Tài khoản có bài đăng được bạn bè thích nhiều nhất là: User 2\n",
            "Tài khoản có ít nhất 10 bài đăng:\n",
            "Tài khoản có ít hơn 10 bài đăng:\n",
            "User 1\n",
            "User 2\n",
            "User 3\n",
            "Verified User\n",
            "Các tài khoản ở Việt Nam được sắp xếp theo số bài đăng (tăng dần) và tên (giảm dần):\n",
            "Verified User\n",
            "User 3\n",
            "User 2\n",
            "User 1\n"
          ]
        }
      ]
    },
    {
      "cell_type": "markdown",
      "source": [
        "\n"
      ],
      "metadata": {
        "id": "BzzW7XMJXoRC"
      }
    },
    {
      "cell_type": "code",
      "source": [
        "import numpy as np\n",
        "array=np.arange(10,26)\n",
        "print(array)\n",
        "reversed_array=array[::-1]\n",
        "print(reversed_array)"
      ],
      "metadata": {
        "colab": {
          "base_uri": "https://localhost:8080/"
        },
        "id": "Ex4cXhEPX0iY",
        "outputId": "aae2c562-867c-4c92-b837-2c3f4b6a66dc"
      },
      "execution_count": null,
      "outputs": [
        {
          "output_type": "stream",
          "name": "stdout",
          "text": [
            "[10 11 12 13 14 15 16 17 18 19 20 21 22 23 24 25]\n",
            "[25 24 23 22 21 20 19 18 17 16 15 14 13 12 11 10]\n"
          ]
        }
      ]
    },
    {
      "cell_type": "code",
      "source": [
        "import numpy as np\n",
        "arr=np.arange(1,5)\n",
        "print(\"Original array: \",arr)\n",
        "print(\"Repeating 2 times: \",np.tile(arr,2))\n",
        "print(\"Repeating 3 times: \",np.tile(arr,3))\n"
      ],
      "metadata": {
        "colab": {
          "base_uri": "https://localhost:8080/"
        },
        "id": "bect4NwcYySX",
        "outputId": "0311c54a-7818-4181-c225-1be4d3a4a2c3"
      },
      "execution_count": null,
      "outputs": [
        {
          "output_type": "stream",
          "name": "stdout",
          "text": [
            "Original array:  [1 2 3 4]\n",
            "Repeating 2 times:  [1 2 3 4 1 2 3 4]\n",
            "Repeating 3 times:  [1 2 3 4 1 2 3 4 1 2 3 4]\n"
          ]
        }
      ]
    },
    {
      "cell_type": "code",
      "source": [
        "import numpy as np\n",
        "arr=np.array([[0.42, 0.48, 0.32],\n",
        "                     [0.74, 0.58, 0.38],\n",
        "                     [0.51, 0.34, 0.15]])\n",
        "print(arr)\n",
        "print(\"Replace all elements of the original array with .5 for values which are greater than .5\")\n",
        "arr[arr>0.5]=0.5\n",
        "print(\"result: \")\n",
        "print(arr)"
      ],
      "metadata": {
        "colab": {
          "base_uri": "https://localhost:8080/"
        },
        "id": "p_meYWkKZxGv",
        "outputId": "dac703a0-cf95-42eb-e261-44e8803ad2f2"
      },
      "execution_count": null,
      "outputs": [
        {
          "output_type": "stream",
          "name": "stdout",
          "text": [
            "[[0.42 0.48 0.32]\n",
            " [0.74 0.58 0.38]\n",
            " [0.51 0.34 0.15]]\n",
            "Replace all elements of the original array with .5 for values which are greater than .5\n",
            "result: \n",
            "[[0.42 0.48 0.32]\n",
            " [0.5  0.5  0.38]\n",
            " [0.5  0.34 0.15]]\n"
          ]
        }
      ]
    },
    {
      "cell_type": "markdown",
      "source": [],
      "metadata": {
        "id": "u-dQbJQcWGSs"
      }
    }
  ]
}